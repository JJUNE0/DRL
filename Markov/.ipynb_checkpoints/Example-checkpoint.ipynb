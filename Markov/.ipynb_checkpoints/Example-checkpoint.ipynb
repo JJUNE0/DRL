{
 "cells": [
  {
   "cell_type": "markdown",
   "id": "3767eb9d-7d3a-48fb-9336-34456a512c04",
   "metadata": {},
   "source": [
    "https://i-systems.github.io/teaching/DL/iNotes/20_MDP_01.html"
   ]
  },
  {
   "cell_type": "markdown",
   "id": "d40e2c07-46b7-4e53-b2fc-b1326b53e6ef",
   "metadata": {},
   "source": [
    "https://i-systems.github.io/teaching/DL/iNotes/20_MDP_02.html"
   ]
  },
  {
   "cell_type": "markdown",
   "id": "6f741791-f487-4af6-8277-8be4cc68ae6f",
   "metadata": {},
   "source": [
    "https://i-systems.github.io/teaching/DL/iNotes/20_MDP_03.html"
   ]
  },
  {
   "cell_type": "code",
   "execution_count": null,
   "id": "37ad0162-588e-4fc3-be08-3c70794f7d38",
   "metadata": {},
   "outputs": [],
   "source": []
  }
 ],
 "metadata": {
  "kernelspec": {
   "display_name": "Python 3 (ipykernel)",
   "language": "python",
   "name": "python3"
  },
  "language_info": {
   "codemirror_mode": {
    "name": "ipython",
    "version": 3
   },
   "file_extension": ".py",
   "mimetype": "text/x-python",
   "name": "python",
   "nbconvert_exporter": "python",
   "pygments_lexer": "ipython3",
   "version": "3.11.5"
  }
 },
 "nbformat": 4,
 "nbformat_minor": 5
}
